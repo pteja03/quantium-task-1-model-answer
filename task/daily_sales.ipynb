{
 "cells": [
  {
   "cell_type": "code",
   "execution_count": 180,
   "metadata": {},
   "outputs": [],
   "source": [
    "import pandas as pd\n",
    "import numpy as np\n",
    "import dash \n",
    "import matplotlib as plt\n"
   ]
  },
  {
   "cell_type": "markdown",
   "metadata": {},
   "source": [
    "Daily Sales openned and concatenated"
   ]
  },
  {
   "cell_type": "code",
   "execution_count": 181,
   "metadata": {},
   "outputs": [],
   "source": [
    "x= pd.read_csv(r\"C:\\Users\\pablo\\OneDrive\\Escritorio\\forage\\quantium\\1\\quantium-task-1-model-answer\\data\\daily_sales_data_0.csv\")\n",
    "y= pd.read_csv(r\"C:\\Users\\pablo\\OneDrive\\Escritorio\\forage\\quantium\\1\\quantium-task-1-model-answer\\data\\daily_sales_data_1.csv\")\n",
    "z= pd.read_csv(r\"C:\\Users\\pablo\\OneDrive\\Escritorio\\forage\\quantium\\1\\quantium-task-1-model-answer\\data\\daily_sales_data_2.csv\")\n",
    "df = pd.concat([x, y, z], ignore_index=True)\n"
   ]
  },
  {
   "cell_type": "markdown",
   "metadata": {},
   "source": [
    "Filerering"
   ]
  },
  {
   "cell_type": "code",
   "execution_count": 182,
   "metadata": {},
   "outputs": [
    {
     "data": {
      "text/html": [
       "<div>\n",
       "<style scoped>\n",
       "    .dataframe tbody tr th:only-of-type {\n",
       "        vertical-align: middle;\n",
       "    }\n",
       "\n",
       "    .dataframe tbody tr th {\n",
       "        vertical-align: top;\n",
       "    }\n",
       "\n",
       "    .dataframe thead th {\n",
       "        text-align: right;\n",
       "    }\n",
       "</style>\n",
       "<table border=\"1\" class=\"dataframe\">\n",
       "  <thead>\n",
       "    <tr style=\"text-align: right;\">\n",
       "      <th></th>\n",
       "      <th>product</th>\n",
       "      <th>price</th>\n",
       "      <th>quantity</th>\n",
       "      <th>date</th>\n",
       "      <th>region</th>\n",
       "    </tr>\n",
       "  </thead>\n",
       "  <tbody>\n",
       "    <tr>\n",
       "      <th>0</th>\n",
       "      <td>pink morsel</td>\n",
       "      <td>$3.00</td>\n",
       "      <td>546</td>\n",
       "      <td>2018-02-06</td>\n",
       "      <td>north</td>\n",
       "    </tr>\n",
       "    <tr>\n",
       "      <th>1</th>\n",
       "      <td>pink morsel</td>\n",
       "      <td>$3.00</td>\n",
       "      <td>549</td>\n",
       "      <td>2018-02-06</td>\n",
       "      <td>south</td>\n",
       "    </tr>\n",
       "    <tr>\n",
       "      <th>2</th>\n",
       "      <td>pink morsel</td>\n",
       "      <td>$3.00</td>\n",
       "      <td>577</td>\n",
       "      <td>2018-02-06</td>\n",
       "      <td>east</td>\n",
       "    </tr>\n",
       "    <tr>\n",
       "      <th>3</th>\n",
       "      <td>pink morsel</td>\n",
       "      <td>$3.00</td>\n",
       "      <td>519</td>\n",
       "      <td>2018-02-06</td>\n",
       "      <td>west</td>\n",
       "    </tr>\n",
       "    <tr>\n",
       "      <th>28</th>\n",
       "      <td>pink morsel</td>\n",
       "      <td>$3.00</td>\n",
       "      <td>529</td>\n",
       "      <td>2018-02-07</td>\n",
       "      <td>north</td>\n",
       "    </tr>\n",
       "  </tbody>\n",
       "</table>\n",
       "</div>"
      ],
      "text/plain": [
       "        product  price  quantity        date region\n",
       "0   pink morsel  $3.00       546  2018-02-06  north\n",
       "1   pink morsel  $3.00       549  2018-02-06  south\n",
       "2   pink morsel  $3.00       577  2018-02-06   east\n",
       "3   pink morsel  $3.00       519  2018-02-06   west\n",
       "28  pink morsel  $3.00       529  2018-02-07  north"
      ]
     },
     "execution_count": 182,
     "metadata": {},
     "output_type": "execute_result"
    }
   ],
   "source": [
    "in_pink_morsel = df['product'] == 'pink morsel'\n",
    "df_pink_morsel = df[in_pink_morsel]\n",
    "df_pink_morsel.reset_index()\n",
    "df_pink_morsel.head(5)\n"
   ]
  },
  {
   "cell_type": "markdown",
   "metadata": {},
   "source": [
    "Changing column price type str to float"
   ]
  },
  {
   "cell_type": "code",
   "execution_count": 183,
   "metadata": {},
   "outputs": [
    {
     "data": {
      "text/plain": [
       "0        3.0\n",
       "1        3.0\n",
       "2        3.0\n",
       "3        3.0\n",
       "28       3.0\n",
       "        ... \n",
       "41107    5.0\n",
       "41132    5.0\n",
       "41133    5.0\n",
       "41134    5.0\n",
       "41135    5.0\n",
       "Name: price, Length: 5880, dtype: float64"
      ]
     },
     "execution_count": 183,
     "metadata": {},
     "output_type": "execute_result"
    }
   ],
   "source": [
    "df_pink_morsel['price'].str.replace(\"$\",\"\").astype(float)"
   ]
  },
  {
   "cell_type": "markdown",
   "metadata": {},
   "source": [
    "Adding column sales multiplying price and quantity"
   ]
  },
  {
   "cell_type": "code",
   "execution_count": 184,
   "metadata": {},
   "outputs": [
    {
     "name": "stderr",
     "output_type": "stream",
     "text": [
      "C:\\Users\\pablo\\AppData\\Local\\Temp\\ipykernel_9020\\3859702895.py:1: SettingWithCopyWarning: \n",
      "A value is trying to be set on a copy of a slice from a DataFrame.\n",
      "Try using .loc[row_indexer,col_indexer] = value instead\n",
      "\n",
      "See the caveats in the documentation: https://pandas.pydata.org/pandas-docs/stable/user_guide/indexing.html#returning-a-view-versus-a-copy\n",
      "  df_pink_morsel['sales'] = (df_pink_morsel['price'].str.replace(\"$\",\"\").astype(float))*(df_pink_morsel['quantity'])\n"
     ]
    },
    {
     "data": {
      "text/html": [
       "<div>\n",
       "<style scoped>\n",
       "    .dataframe tbody tr th:only-of-type {\n",
       "        vertical-align: middle;\n",
       "    }\n",
       "\n",
       "    .dataframe tbody tr th {\n",
       "        vertical-align: top;\n",
       "    }\n",
       "\n",
       "    .dataframe thead th {\n",
       "        text-align: right;\n",
       "    }\n",
       "</style>\n",
       "<table border=\"1\" class=\"dataframe\">\n",
       "  <thead>\n",
       "    <tr style=\"text-align: right;\">\n",
       "      <th></th>\n",
       "      <th>product</th>\n",
       "      <th>price</th>\n",
       "      <th>quantity</th>\n",
       "      <th>date</th>\n",
       "      <th>region</th>\n",
       "      <th>sales</th>\n",
       "    </tr>\n",
       "  </thead>\n",
       "  <tbody>\n",
       "    <tr>\n",
       "      <th>0</th>\n",
       "      <td>pink morsel</td>\n",
       "      <td>$3.00</td>\n",
       "      <td>546</td>\n",
       "      <td>2018-02-06</td>\n",
       "      <td>north</td>\n",
       "      <td>1638.0</td>\n",
       "    </tr>\n",
       "    <tr>\n",
       "      <th>1</th>\n",
       "      <td>pink morsel</td>\n",
       "      <td>$3.00</td>\n",
       "      <td>549</td>\n",
       "      <td>2018-02-06</td>\n",
       "      <td>south</td>\n",
       "      <td>1647.0</td>\n",
       "    </tr>\n",
       "    <tr>\n",
       "      <th>2</th>\n",
       "      <td>pink morsel</td>\n",
       "      <td>$3.00</td>\n",
       "      <td>577</td>\n",
       "      <td>2018-02-06</td>\n",
       "      <td>east</td>\n",
       "      <td>1731.0</td>\n",
       "    </tr>\n",
       "    <tr>\n",
       "      <th>3</th>\n",
       "      <td>pink morsel</td>\n",
       "      <td>$3.00</td>\n",
       "      <td>519</td>\n",
       "      <td>2018-02-06</td>\n",
       "      <td>west</td>\n",
       "      <td>1557.0</td>\n",
       "    </tr>\n",
       "    <tr>\n",
       "      <th>28</th>\n",
       "      <td>pink morsel</td>\n",
       "      <td>$3.00</td>\n",
       "      <td>529</td>\n",
       "      <td>2018-02-07</td>\n",
       "      <td>north</td>\n",
       "      <td>1587.0</td>\n",
       "    </tr>\n",
       "  </tbody>\n",
       "</table>\n",
       "</div>"
      ],
      "text/plain": [
       "        product  price  quantity        date region   sales\n",
       "0   pink morsel  $3.00       546  2018-02-06  north  1638.0\n",
       "1   pink morsel  $3.00       549  2018-02-06  south  1647.0\n",
       "2   pink morsel  $3.00       577  2018-02-06   east  1731.0\n",
       "3   pink morsel  $3.00       519  2018-02-06   west  1557.0\n",
       "28  pink morsel  $3.00       529  2018-02-07  north  1587.0"
      ]
     },
     "execution_count": 184,
     "metadata": {},
     "output_type": "execute_result"
    }
   ],
   "source": [
    "df_pink_morsel['sales'] = (df_pink_morsel['price'].str.replace(\"$\",\"\").astype(float))*(df_pink_morsel['quantity'])\n",
    "df_pink_morsel.reset_index()\n",
    "df_pink_morsel.head()"
   ]
  },
  {
   "cell_type": "code",
   "execution_count": 185,
   "metadata": {},
   "outputs": [
    {
     "data": {
      "text/html": [
       "<div>\n",
       "<style scoped>\n",
       "    .dataframe tbody tr th:only-of-type {\n",
       "        vertical-align: middle;\n",
       "    }\n",
       "\n",
       "    .dataframe tbody tr th {\n",
       "        vertical-align: top;\n",
       "    }\n",
       "\n",
       "    .dataframe thead th {\n",
       "        text-align: right;\n",
       "    }\n",
       "</style>\n",
       "<table border=\"1\" class=\"dataframe\">\n",
       "  <thead>\n",
       "    <tr style=\"text-align: right;\">\n",
       "      <th></th>\n",
       "      <th>date</th>\n",
       "      <th>region</th>\n",
       "      <th>sales</th>\n",
       "    </tr>\n",
       "  </thead>\n",
       "  <tbody>\n",
       "    <tr>\n",
       "      <th>0</th>\n",
       "      <td>2018-02-06</td>\n",
       "      <td>north</td>\n",
       "      <td>1638.0</td>\n",
       "    </tr>\n",
       "    <tr>\n",
       "      <th>1</th>\n",
       "      <td>2018-02-06</td>\n",
       "      <td>south</td>\n",
       "      <td>1647.0</td>\n",
       "    </tr>\n",
       "    <tr>\n",
       "      <th>2</th>\n",
       "      <td>2018-02-06</td>\n",
       "      <td>east</td>\n",
       "      <td>1731.0</td>\n",
       "    </tr>\n",
       "    <tr>\n",
       "      <th>3</th>\n",
       "      <td>2018-02-06</td>\n",
       "      <td>west</td>\n",
       "      <td>1557.0</td>\n",
       "    </tr>\n",
       "    <tr>\n",
       "      <th>28</th>\n",
       "      <td>2018-02-07</td>\n",
       "      <td>north</td>\n",
       "      <td>1587.0</td>\n",
       "    </tr>\n",
       "  </tbody>\n",
       "</table>\n",
       "</div>"
      ],
      "text/plain": [
       "          date region   sales\n",
       "0   2018-02-06  north  1638.0\n",
       "1   2018-02-06  south  1647.0\n",
       "2   2018-02-06   east  1731.0\n",
       "3   2018-02-06   west  1557.0\n",
       "28  2018-02-07  north  1587.0"
      ]
     },
     "execution_count": 185,
     "metadata": {},
     "output_type": "execute_result"
    }
   ],
   "source": [
    "df_pink_morsel =df_pink_morsel.drop(columns=[\"product\",\"price\",\"quantity\"])\n",
    "df_pink_morsel = df_pink_morsel.dropna(axis=1, how='all')\n",
    "df_pink_morsel.head()\n"
   ]
  },
  {
   "cell_type": "code",
   "execution_count": 187,
   "metadata": {},
   "outputs": [],
   "source": [
    "df_pink_morsel.to_csv(r'C:\\Users\\pablo\\OneDrive\\Escritorio\\forage\\quantium\\1\\quantium-task-1-model-answer\\formated_data.csv')"
   ]
  }
 ],
 "metadata": {
  "kernelspec": {
   "display_name": "Python 3",
   "language": "python",
   "name": "python3"
  },
  "language_info": {
   "codemirror_mode": {
    "name": "ipython",
    "version": 3
   },
   "file_extension": ".py",
   "mimetype": "text/x-python",
   "name": "python",
   "nbconvert_exporter": "python",
   "pygments_lexer": "ipython3",
   "version": "3.12.6"
  }
 },
 "nbformat": 4,
 "nbformat_minor": 2
}
